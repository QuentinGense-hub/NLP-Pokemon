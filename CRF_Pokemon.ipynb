{
  "nbformat": 4,
  "nbformat_minor": 0,
  "metadata": {
    "colab": {
      "provenance": []
    },
    "kernelspec": {
      "name": "python3",
      "display_name": "Python 3"
    },
    "language_info": {
      "name": "python"
    }
  },
  "cells": [
    {
      "cell_type": "code",
      "execution_count": 1,
      "metadata": {
        "colab": {
          "base_uri": "https://localhost:8080/"
        },
        "id": "Fp8zGKWuRrZp",
        "outputId": "60bb8c45-d840-4a57-abbb-39a5853bd95b"
      },
      "outputs": [
        {
          "output_type": "stream",
          "name": "stdout",
          "text": [
            "Collecting python-crfsuite\n",
            "  Downloading python_crfsuite-0.9.11-cp311-cp311-manylinux_2_17_x86_64.manylinux2014_x86_64.whl.metadata (4.3 kB)\n",
            "Downloading python_crfsuite-0.9.11-cp311-cp311-manylinux_2_17_x86_64.manylinux2014_x86_64.whl (1.3 MB)\n",
            "\u001b[2K   \u001b[90m━━━━━━━━━━━━━━━━━━━━━━━━━━━━━━━━━━━━━━━━\u001b[0m \u001b[32m1.3/1.3 MB\u001b[0m \u001b[31m8.4 MB/s\u001b[0m eta \u001b[36m0:00:00\u001b[0m\n",
            "\u001b[?25hInstalling collected packages: python-crfsuite\n",
            "Successfully installed python-crfsuite-0.9.11\n"
          ]
        }
      ],
      "source": [
        "!pip install python-crfsuite"
      ]
    },
    {
      "cell_type": "markdown",
      "source": [
        "# Importation du dataset"
      ],
      "metadata": {
        "id": "1rnCzTb7SILT"
      }
    },
    {
      "cell_type": "code",
      "source": [
        "import pandas as pnd\n",
        "import json\n",
        "import re"
      ],
      "metadata": {
        "id": "M5KJE6IYSESl"
      },
      "execution_count": 9,
      "outputs": []
    },
    {
      "cell_type": "code",
      "source": [
        "df = pnd.read_csv(\"pokemon.csv\",encoding=\"utf-8\")\n",
        "\n",
        "# Replaces the NULL values with the value from the previous row\n",
        "df = df.ffill()"
      ],
      "metadata": {
        "id": "_Y92hwP0SPXc"
      },
      "execution_count": 4,
      "outputs": []
    },
    {
      "cell_type": "code",
      "source": [
        "df.head()"
      ],
      "metadata": {
        "colab": {
          "base_uri": "https://localhost:8080/",
          "height": 206
        },
        "id": "UrqBrjNtSdeC",
        "outputId": "d5089c80-5a1a-421a-be9b-5a2fdc21be5e"
      },
      "execution_count": 5,
      "outputs": [
        {
          "output_type": "execute_result",
          "data": {
            "text/plain": [
              "   annotation_id  annotator                   created_at  id  \\\n",
              "0              2          1  2025-03-10T15:00:25.920387Z   2   \n",
              "1             46          1  2025-03-10T15:15:21.035367Z   3   \n",
              "2             49          1  2025-03-10T15:17:41.093148Z   4   \n",
              "3             47          1  2025-03-10T15:15:32.087001Z   5   \n",
              "4             48          1  2025-03-10T15:15:41.776349Z   6   \n",
              "\n",
              "                                               label  lead_time  \\\n",
              "0  [{\"start\":3,\"end\":10,\"text\":\"Pikachu\",\"labels\"...    825.900   \n",
              "1  [{\"start\":29,\"end\":37,\"text\":\"Charzard\",\"label...    499.897   \n",
              "2  [{\"start\":13,\"end\":16,\"text\":\"and\",\"labels\":[\"...    155.686   \n",
              "3  [{\"start\":32,\"end\":36,\"text\":\"Eeve\",\"labels\":[...    194.099   \n",
              "4  [{\"start\":3,\"end\":9,\"text\":\"Snorlx\",\"labels\":[...    168.917   \n",
              "\n",
              "                                                text  \\\n",
              "0  1. Pikachu used Thunderbolt to defeat the wild...   \n",
              "1  2. Ash's favorite Pokémon is Charzard because ...   \n",
              "2  3. Bulbasaur and Squirtl teamed up to battle a...   \n",
              "3  4. Team Rocket tried to capture Eeve, but it q...   \n",
              "4  5. Snorlx blocked the road, forcing the traine...   \n",
              "\n",
              "                    updated_at  \n",
              "0  2025-03-19T23:00:29.227096Z  \n",
              "1  2025-03-19T23:00:26.568715Z  \n",
              "2  2025-03-19T23:00:24.574354Z  \n",
              "3  2025-03-19T23:00:21.741442Z  \n",
              "4  2025-03-19T23:00:19.152637Z  "
            ],
            "text/html": [
              "\n",
              "  <div id=\"df-b0bcab62-299a-4778-8d11-984555c81ba4\" class=\"colab-df-container\">\n",
              "    <div>\n",
              "<style scoped>\n",
              "    .dataframe tbody tr th:only-of-type {\n",
              "        vertical-align: middle;\n",
              "    }\n",
              "\n",
              "    .dataframe tbody tr th {\n",
              "        vertical-align: top;\n",
              "    }\n",
              "\n",
              "    .dataframe thead th {\n",
              "        text-align: right;\n",
              "    }\n",
              "</style>\n",
              "<table border=\"1\" class=\"dataframe\">\n",
              "  <thead>\n",
              "    <tr style=\"text-align: right;\">\n",
              "      <th></th>\n",
              "      <th>annotation_id</th>\n",
              "      <th>annotator</th>\n",
              "      <th>created_at</th>\n",
              "      <th>id</th>\n",
              "      <th>label</th>\n",
              "      <th>lead_time</th>\n",
              "      <th>text</th>\n",
              "      <th>updated_at</th>\n",
              "    </tr>\n",
              "  </thead>\n",
              "  <tbody>\n",
              "    <tr>\n",
              "      <th>0</th>\n",
              "      <td>2</td>\n",
              "      <td>1</td>\n",
              "      <td>2025-03-10T15:00:25.920387Z</td>\n",
              "      <td>2</td>\n",
              "      <td>[{\"start\":3,\"end\":10,\"text\":\"Pikachu\",\"labels\"...</td>\n",
              "      <td>825.900</td>\n",
              "      <td>1. Pikachu used Thunderbolt to defeat the wild...</td>\n",
              "      <td>2025-03-19T23:00:29.227096Z</td>\n",
              "    </tr>\n",
              "    <tr>\n",
              "      <th>1</th>\n",
              "      <td>46</td>\n",
              "      <td>1</td>\n",
              "      <td>2025-03-10T15:15:21.035367Z</td>\n",
              "      <td>3</td>\n",
              "      <td>[{\"start\":29,\"end\":37,\"text\":\"Charzard\",\"label...</td>\n",
              "      <td>499.897</td>\n",
              "      <td>2. Ash's favorite Pokémon is Charzard because ...</td>\n",
              "      <td>2025-03-19T23:00:26.568715Z</td>\n",
              "    </tr>\n",
              "    <tr>\n",
              "      <th>2</th>\n",
              "      <td>49</td>\n",
              "      <td>1</td>\n",
              "      <td>2025-03-10T15:17:41.093148Z</td>\n",
              "      <td>4</td>\n",
              "      <td>[{\"start\":13,\"end\":16,\"text\":\"and\",\"labels\":[\"...</td>\n",
              "      <td>155.686</td>\n",
              "      <td>3. Bulbasaur and Squirtl teamed up to battle a...</td>\n",
              "      <td>2025-03-19T23:00:24.574354Z</td>\n",
              "    </tr>\n",
              "    <tr>\n",
              "      <th>3</th>\n",
              "      <td>47</td>\n",
              "      <td>1</td>\n",
              "      <td>2025-03-10T15:15:32.087001Z</td>\n",
              "      <td>5</td>\n",
              "      <td>[{\"start\":32,\"end\":36,\"text\":\"Eeve\",\"labels\":[...</td>\n",
              "      <td>194.099</td>\n",
              "      <td>4. Team Rocket tried to capture Eeve, but it q...</td>\n",
              "      <td>2025-03-19T23:00:21.741442Z</td>\n",
              "    </tr>\n",
              "    <tr>\n",
              "      <th>4</th>\n",
              "      <td>48</td>\n",
              "      <td>1</td>\n",
              "      <td>2025-03-10T15:15:41.776349Z</td>\n",
              "      <td>6</td>\n",
              "      <td>[{\"start\":3,\"end\":9,\"text\":\"Snorlx\",\"labels\":[...</td>\n",
              "      <td>168.917</td>\n",
              "      <td>5. Snorlx blocked the road, forcing the traine...</td>\n",
              "      <td>2025-03-19T23:00:19.152637Z</td>\n",
              "    </tr>\n",
              "  </tbody>\n",
              "</table>\n",
              "</div>\n",
              "    <div class=\"colab-df-buttons\">\n",
              "\n",
              "  <div class=\"colab-df-container\">\n",
              "    <button class=\"colab-df-convert\" onclick=\"convertToInteractive('df-b0bcab62-299a-4778-8d11-984555c81ba4')\"\n",
              "            title=\"Convert this dataframe to an interactive table.\"\n",
              "            style=\"display:none;\">\n",
              "\n",
              "  <svg xmlns=\"http://www.w3.org/2000/svg\" height=\"24px\" viewBox=\"0 -960 960 960\">\n",
              "    <path d=\"M120-120v-720h720v720H120Zm60-500h600v-160H180v160Zm220 220h160v-160H400v160Zm0 220h160v-160H400v160ZM180-400h160v-160H180v160Zm440 0h160v-160H620v160ZM180-180h160v-160H180v160Zm440 0h160v-160H620v160Z\"/>\n",
              "  </svg>\n",
              "    </button>\n",
              "\n",
              "  <style>\n",
              "    .colab-df-container {\n",
              "      display:flex;\n",
              "      gap: 12px;\n",
              "    }\n",
              "\n",
              "    .colab-df-convert {\n",
              "      background-color: #E8F0FE;\n",
              "      border: none;\n",
              "      border-radius: 50%;\n",
              "      cursor: pointer;\n",
              "      display: none;\n",
              "      fill: #1967D2;\n",
              "      height: 32px;\n",
              "      padding: 0 0 0 0;\n",
              "      width: 32px;\n",
              "    }\n",
              "\n",
              "    .colab-df-convert:hover {\n",
              "      background-color: #E2EBFA;\n",
              "      box-shadow: 0px 1px 2px rgba(60, 64, 67, 0.3), 0px 1px 3px 1px rgba(60, 64, 67, 0.15);\n",
              "      fill: #174EA6;\n",
              "    }\n",
              "\n",
              "    .colab-df-buttons div {\n",
              "      margin-bottom: 4px;\n",
              "    }\n",
              "\n",
              "    [theme=dark] .colab-df-convert {\n",
              "      background-color: #3B4455;\n",
              "      fill: #D2E3FC;\n",
              "    }\n",
              "\n",
              "    [theme=dark] .colab-df-convert:hover {\n",
              "      background-color: #434B5C;\n",
              "      box-shadow: 0px 1px 3px 1px rgba(0, 0, 0, 0.15);\n",
              "      filter: drop-shadow(0px 1px 2px rgba(0, 0, 0, 0.3));\n",
              "      fill: #FFFFFF;\n",
              "    }\n",
              "  </style>\n",
              "\n",
              "    <script>\n",
              "      const buttonEl =\n",
              "        document.querySelector('#df-b0bcab62-299a-4778-8d11-984555c81ba4 button.colab-df-convert');\n",
              "      buttonEl.style.display =\n",
              "        google.colab.kernel.accessAllowed ? 'block' : 'none';\n",
              "\n",
              "      async function convertToInteractive(key) {\n",
              "        const element = document.querySelector('#df-b0bcab62-299a-4778-8d11-984555c81ba4');\n",
              "        const dataTable =\n",
              "          await google.colab.kernel.invokeFunction('convertToInteractive',\n",
              "                                                    [key], {});\n",
              "        if (!dataTable) return;\n",
              "\n",
              "        const docLinkHtml = 'Like what you see? Visit the ' +\n",
              "          '<a target=\"_blank\" href=https://colab.research.google.com/notebooks/data_table.ipynb>data table notebook</a>'\n",
              "          + ' to learn more about interactive tables.';\n",
              "        element.innerHTML = '';\n",
              "        dataTable['output_type'] = 'display_data';\n",
              "        await google.colab.output.renderOutput(dataTable, element);\n",
              "        const docLink = document.createElement('div');\n",
              "        docLink.innerHTML = docLinkHtml;\n",
              "        element.appendChild(docLink);\n",
              "      }\n",
              "    </script>\n",
              "  </div>\n",
              "\n",
              "\n",
              "<div id=\"df-dd8e5476-b68d-40d3-b2f2-16ce351eb7fc\">\n",
              "  <button class=\"colab-df-quickchart\" onclick=\"quickchart('df-dd8e5476-b68d-40d3-b2f2-16ce351eb7fc')\"\n",
              "            title=\"Suggest charts\"\n",
              "            style=\"display:none;\">\n",
              "\n",
              "<svg xmlns=\"http://www.w3.org/2000/svg\" height=\"24px\"viewBox=\"0 0 24 24\"\n",
              "     width=\"24px\">\n",
              "    <g>\n",
              "        <path d=\"M19 3H5c-1.1 0-2 .9-2 2v14c0 1.1.9 2 2 2h14c1.1 0 2-.9 2-2V5c0-1.1-.9-2-2-2zM9 17H7v-7h2v7zm4 0h-2V7h2v10zm4 0h-2v-4h2v4z\"/>\n",
              "    </g>\n",
              "</svg>\n",
              "  </button>\n",
              "\n",
              "<style>\n",
              "  .colab-df-quickchart {\n",
              "      --bg-color: #E8F0FE;\n",
              "      --fill-color: #1967D2;\n",
              "      --hover-bg-color: #E2EBFA;\n",
              "      --hover-fill-color: #174EA6;\n",
              "      --disabled-fill-color: #AAA;\n",
              "      --disabled-bg-color: #DDD;\n",
              "  }\n",
              "\n",
              "  [theme=dark] .colab-df-quickchart {\n",
              "      --bg-color: #3B4455;\n",
              "      --fill-color: #D2E3FC;\n",
              "      --hover-bg-color: #434B5C;\n",
              "      --hover-fill-color: #FFFFFF;\n",
              "      --disabled-bg-color: #3B4455;\n",
              "      --disabled-fill-color: #666;\n",
              "  }\n",
              "\n",
              "  .colab-df-quickchart {\n",
              "    background-color: var(--bg-color);\n",
              "    border: none;\n",
              "    border-radius: 50%;\n",
              "    cursor: pointer;\n",
              "    display: none;\n",
              "    fill: var(--fill-color);\n",
              "    height: 32px;\n",
              "    padding: 0;\n",
              "    width: 32px;\n",
              "  }\n",
              "\n",
              "  .colab-df-quickchart:hover {\n",
              "    background-color: var(--hover-bg-color);\n",
              "    box-shadow: 0 1px 2px rgba(60, 64, 67, 0.3), 0 1px 3px 1px rgba(60, 64, 67, 0.15);\n",
              "    fill: var(--button-hover-fill-color);\n",
              "  }\n",
              "\n",
              "  .colab-df-quickchart-complete:disabled,\n",
              "  .colab-df-quickchart-complete:disabled:hover {\n",
              "    background-color: var(--disabled-bg-color);\n",
              "    fill: var(--disabled-fill-color);\n",
              "    box-shadow: none;\n",
              "  }\n",
              "\n",
              "  .colab-df-spinner {\n",
              "    border: 2px solid var(--fill-color);\n",
              "    border-color: transparent;\n",
              "    border-bottom-color: var(--fill-color);\n",
              "    animation:\n",
              "      spin 1s steps(1) infinite;\n",
              "  }\n",
              "\n",
              "  @keyframes spin {\n",
              "    0% {\n",
              "      border-color: transparent;\n",
              "      border-bottom-color: var(--fill-color);\n",
              "      border-left-color: var(--fill-color);\n",
              "    }\n",
              "    20% {\n",
              "      border-color: transparent;\n",
              "      border-left-color: var(--fill-color);\n",
              "      border-top-color: var(--fill-color);\n",
              "    }\n",
              "    30% {\n",
              "      border-color: transparent;\n",
              "      border-left-color: var(--fill-color);\n",
              "      border-top-color: var(--fill-color);\n",
              "      border-right-color: var(--fill-color);\n",
              "    }\n",
              "    40% {\n",
              "      border-color: transparent;\n",
              "      border-right-color: var(--fill-color);\n",
              "      border-top-color: var(--fill-color);\n",
              "    }\n",
              "    60% {\n",
              "      border-color: transparent;\n",
              "      border-right-color: var(--fill-color);\n",
              "    }\n",
              "    80% {\n",
              "      border-color: transparent;\n",
              "      border-right-color: var(--fill-color);\n",
              "      border-bottom-color: var(--fill-color);\n",
              "    }\n",
              "    90% {\n",
              "      border-color: transparent;\n",
              "      border-bottom-color: var(--fill-color);\n",
              "    }\n",
              "  }\n",
              "</style>\n",
              "\n",
              "  <script>\n",
              "    async function quickchart(key) {\n",
              "      const quickchartButtonEl =\n",
              "        document.querySelector('#' + key + ' button');\n",
              "      quickchartButtonEl.disabled = true;  // To prevent multiple clicks.\n",
              "      quickchartButtonEl.classList.add('colab-df-spinner');\n",
              "      try {\n",
              "        const charts = await google.colab.kernel.invokeFunction(\n",
              "            'suggestCharts', [key], {});\n",
              "      } catch (error) {\n",
              "        console.error('Error during call to suggestCharts:', error);\n",
              "      }\n",
              "      quickchartButtonEl.classList.remove('colab-df-spinner');\n",
              "      quickchartButtonEl.classList.add('colab-df-quickchart-complete');\n",
              "    }\n",
              "    (() => {\n",
              "      let quickchartButtonEl =\n",
              "        document.querySelector('#df-dd8e5476-b68d-40d3-b2f2-16ce351eb7fc button');\n",
              "      quickchartButtonEl.style.display =\n",
              "        google.colab.kernel.accessAllowed ? 'block' : 'none';\n",
              "    })();\n",
              "  </script>\n",
              "</div>\n",
              "\n",
              "    </div>\n",
              "  </div>\n"
            ],
            "application/vnd.google.colaboratory.intrinsic+json": {
              "type": "dataframe",
              "variable_name": "df",
              "summary": "{\n  \"name\": \"df\",\n  \"rows\": 50,\n  \"fields\": [\n    {\n      \"column\": \"annotation_id\",\n      \"properties\": {\n        \"dtype\": \"number\",\n        \"std\": 14,\n        \"min\": 2,\n        \"max\": 51,\n        \"num_unique_values\": 50,\n        \"samples\": [\n          10,\n          36,\n          27\n        ],\n        \"semantic_type\": \"\",\n        \"description\": \"\"\n      }\n    },\n    {\n      \"column\": \"annotator\",\n      \"properties\": {\n        \"dtype\": \"number\",\n        \"std\": 0,\n        \"min\": 1,\n        \"max\": 1,\n        \"num_unique_values\": 1,\n        \"samples\": [\n          1\n        ],\n        \"semantic_type\": \"\",\n        \"description\": \"\"\n      }\n    },\n    {\n      \"column\": \"created_at\",\n      \"properties\": {\n        \"dtype\": \"object\",\n        \"num_unique_values\": 50,\n        \"samples\": [\n          \"2025-03-10T15:08:55.784486Z\"\n        ],\n        \"semantic_type\": \"\",\n        \"description\": \"\"\n      }\n    },\n    {\n      \"column\": \"id\",\n      \"properties\": {\n        \"dtype\": \"number\",\n        \"std\": 14,\n        \"min\": 2,\n        \"max\": 51,\n        \"num_unique_values\": 50,\n        \"samples\": [\n          15\n        ],\n        \"semantic_type\": \"\",\n        \"description\": \"\"\n      }\n    },\n    {\n      \"column\": \"label\",\n      \"properties\": {\n        \"dtype\": \"string\",\n        \"num_unique_values\": 50,\n        \"samples\": [\n          \"[{\\\"start\\\":60,\\\"end\\\":61,\\\"text\\\":\\\".\\\",\\\"labels\\\":[\\\"0\\\"]},{\\\"start\\\":19,\\\"end\\\":22,\\\"text\\\":\\\"the\\\",\\\"labels\\\":[\\\"0\\\"]},{\\\"start\\\":23,\\\"end\\\":27,\\\"text\\\":\\\"aura\\\",\\\"labels\\\":[\\\"0\\\"]},{\\\"start\\\":28,\\\"end\\\":30,\\\"text\\\":\\\"of\\\",\\\"labels\\\":[\\\"0\\\"]},{\\\"start\\\":31,\\\"end\\\":37,\\\"text\\\":\\\"danger\\\",\\\"labels\\\":[\\\"0\\\"]},{\\\"start\\\":38,\\\"end\\\":41,\\\"text\\\":\\\"and\\\",\\\"labels\\\":[\\\"0\\\"]},{\\\"start\\\":42,\\\"end\\\":48,\\\"text\\\":\\\"warned\\\",\\\"labels\\\":[\\\"B-Verb\\\"]},{\\\"start\\\":49,\\\"end\\\":52,\\\"text\\\":\\\"its\\\",\\\"labels\\\":[\\\"0\\\"]},{\\\"start\\\":53,\\\"end\\\":60,\\\"text\\\":\\\"trainer\\\",\\\"labels\\\":[\\\"0\\\"]},{\\\"start\\\":4,\\\"end\\\":11,\\\"text\\\":\\\"Lucario\\\",\\\"labels\\\":[\\\"B-Pokemon\\\"]},{\\\"start\\\":12,\\\"end\\\":18,\\\"text\\\":\\\"sensed\\\",\\\"labels\\\":[\\\"B-Verb\\\"]}]\"\n        ],\n        \"semantic_type\": \"\",\n        \"description\": \"\"\n      }\n    },\n    {\n      \"column\": \"lead_time\",\n      \"properties\": {\n        \"dtype\": \"number\",\n        \"std\": 139.923927959416,\n        \"min\": 51.078,\n        \"max\": 825.9,\n        \"num_unique_values\": 50,\n        \"samples\": [\n          51.25399999999999\n        ],\n        \"semantic_type\": \"\",\n        \"description\": \"\"\n      }\n    },\n    {\n      \"column\": \"text\",\n      \"properties\": {\n        \"dtype\": \"string\",\n        \"num_unique_values\": 50,\n        \"samples\": [\n          \"14. Lucario sensed the aura of danger and warned its trainer.\"\n        ],\n        \"semantic_type\": \"\",\n        \"description\": \"\"\n      }\n    },\n    {\n      \"column\": \"updated_at\",\n      \"properties\": {\n        \"dtype\": \"object\",\n        \"num_unique_values\": 50,\n        \"samples\": [\n          \"2025-03-19T22:59:58.922564Z\"\n        ],\n        \"semantic_type\": \"\",\n        \"description\": \"\"\n      }\n    }\n  ]\n}"
            }
          },
          "metadata": {},
          "execution_count": 5
        }
      ]
    },
    {
      "cell_type": "code",
      "source": [
        "#Extract unique sentences\n",
        "sentences = list(set(df[\"text\"].values))"
      ],
      "metadata": {
        "id": "CfUcsWGDSjq7"
      },
      "execution_count": 6,
      "outputs": []
    },
    {
      "cell_type": "code",
      "source": [
        "n_sentences = len(sentences)\n",
        "print(n_sentences)"
      ],
      "metadata": {
        "colab": {
          "base_uri": "https://localhost:8080/"
        },
        "id": "xz07ySMOSex6",
        "outputId": "83d143f6-fa09-4808-84bf-ae517f47f247"
      },
      "execution_count": 7,
      "outputs": [
        {
          "output_type": "stream",
          "name": "stdout",
          "text": [
            "50\n"
          ]
        }
      ]
    },
    {
      "cell_type": "code",
      "source": [
        "def extract_all_labels(df):\n",
        "    dataset = []\n",
        "\n",
        "    for _, row in df.iterrows():\n",
        "        text = row[\"text\"]\n",
        "        labels = json.loads(row[\"label\"])\n",
        "\n",
        "        # Stocker toutes les annotations\n",
        "        word_annotations = {}\n",
        "\n",
        "        for label in labels:\n",
        "            start, end = label[\"start\"], label[\"end\"]\n",
        "            entity_label = label[\"labels\"][0]  # Ex: \"B-Pokemon\", \"B-Move\", etc.\n",
        "\n",
        "            first = True\n",
        "            for match in re.finditer(r\"\\b\\w+\\b\", text[start:end]):\n",
        "                word_start = start + match.start()\n",
        "                if first:\n",
        "                    word_annotations[word_start] = entity_label  # \"B-...\" (début)\n",
        "                    first = False\n",
        "                else:\n",
        "                    word_annotations[word_start] = \"I-\" + entity_label.split(\"-\")[-1]  # \"I-...\"\n",
        "\n",
        "        # Construire la séquence de tokens avec annotations\n",
        "        word_tags = []\n",
        "        words = re.finditer(r\"\\b\\w+\\b\", text)\n",
        "\n",
        "        for match in words:\n",
        "            start = match.start()\n",
        "            word = match.group()\n",
        "\n",
        "            # Récupérer l'étiquette si elle existe, sinon \"O\"\n",
        "            tag = word_annotations.get(start, \"O\")\n",
        "\n",
        "            word_tags.append((word, tag))\n",
        "\n",
        "        dataset.append(word_tags)\n",
        "\n",
        "    return dataset\n"
      ],
      "metadata": {
        "id": "afKPts3fSsMp"
      },
      "execution_count": 21,
      "outputs": []
    },
    {
      "cell_type": "code",
      "source": [
        "pip install sklearn_crfsuite"
      ],
      "metadata": {
        "colab": {
          "base_uri": "https://localhost:8080/"
        },
        "id": "z1qAqVg4VDKh",
        "outputId": "3f6787cf-72e2-485b-99ae-d47a98f11c55"
      },
      "execution_count": 14,
      "outputs": [
        {
          "output_type": "stream",
          "name": "stdout",
          "text": [
            "Collecting sklearn_crfsuite\n",
            "  Downloading sklearn_crfsuite-0.5.0-py2.py3-none-any.whl.metadata (4.9 kB)\n",
            "Requirement already satisfied: python-crfsuite>=0.9.7 in /usr/local/lib/python3.11/dist-packages (from sklearn_crfsuite) (0.9.11)\n",
            "Requirement already satisfied: scikit-learn>=0.24.0 in /usr/local/lib/python3.11/dist-packages (from sklearn_crfsuite) (1.6.1)\n",
            "Requirement already satisfied: tabulate>=0.4.2 in /usr/local/lib/python3.11/dist-packages (from sklearn_crfsuite) (0.9.0)\n",
            "Requirement already satisfied: tqdm>=2.0 in /usr/local/lib/python3.11/dist-packages (from sklearn_crfsuite) (4.67.1)\n",
            "Requirement already satisfied: numpy>=1.19.5 in /usr/local/lib/python3.11/dist-packages (from scikit-learn>=0.24.0->sklearn_crfsuite) (2.0.2)\n",
            "Requirement already satisfied: scipy>=1.6.0 in /usr/local/lib/python3.11/dist-packages (from scikit-learn>=0.24.0->sklearn_crfsuite) (1.14.1)\n",
            "Requirement already satisfied: joblib>=1.2.0 in /usr/local/lib/python3.11/dist-packages (from scikit-learn>=0.24.0->sklearn_crfsuite) (1.4.2)\n",
            "Requirement already satisfied: threadpoolctl>=3.1.0 in /usr/local/lib/python3.11/dist-packages (from scikit-learn>=0.24.0->sklearn_crfsuite) (3.6.0)\n",
            "Downloading sklearn_crfsuite-0.5.0-py2.py3-none-any.whl (10 kB)\n",
            "Installing collected packages: sklearn_crfsuite\n",
            "Successfully installed sklearn_crfsuite-0.5.0\n"
          ]
        }
      ]
    },
    {
      "cell_type": "code",
      "source": [
        "import sklearn_crfsuite\n",
        "from sklearn_crfsuite import CRF\n",
        "from sklearn.model_selection import train_test_split\n",
        "\n",
        "# Transformation des mot en features\n",
        "def word2features(sentence, i):\n",
        "    word = sentence[i][0]\n",
        "    features = {\n",
        "        'word.lower()': word.lower(),\n",
        "        'word.isupper()': word.isupper(),\n",
        "        'word.istitle()': word.istitle(),\n",
        "        'word.isdigit()': word.isdigit(),\n",
        "    }\n",
        "    if i > 0:\n",
        "        word_prev = sentence[i - 1][0]\n",
        "        features.update({\n",
        "            '-1:word.lower()': word_prev.lower(),\n",
        "            '-1:word.istitle()': word_prev.istitle(),\n",
        "            '-1:word.isupper()': word_prev.isupper(),\n",
        "        })\n",
        "    else:\n",
        "        features['BOS'] = True  # Début de phrase\n",
        "\n",
        "    if i < len(sentence) - 1:\n",
        "        word_next = sentence[i + 1][0]\n",
        "        features.update({\n",
        "            '+1:word.lower()': word_next.lower(),\n",
        "            '+1:word.istitle()': word_next.istitle(),\n",
        "            '+1:word.isupper()': word_next.isupper(),\n",
        "        })\n",
        "    else:\n",
        "        features['EOS'] = True  # Fin de phrase\n",
        "\n",
        "    return features\n",
        "\n",
        "# Extraction des features\n",
        "def extract_features(sentences):\n",
        "    return [[word2features(s, i) for i in range(len(s))] for s in sentences]\n",
        "\n",
        "# Extraction des labels\n",
        "def extract_labels(sentences):\n",
        "    return [[label for _, label in s] for s in sentences]\n",
        "\n",
        "annotated_data = extract_all_labels(df)\n",
        "\n",
        "X = extract_features(annotated_data)\n",
        "y = extract_labels(annotated_data)\n",
        "\n",
        "X_train, X_test, y_train, y_test = train_test_split(X, y, test_size=0.2, random_state=42) # Séparation du dataset en train_test\n",
        "\n",
        "# Entraînement du modèle CRF\n",
        "crf = CRF(\n",
        "    algorithm='lbfgs',\n",
        "    c1=0.1,\n",
        "    c2=0.1,\n",
        "    max_iterations=100,\n",
        "    all_possible_transitions=True\n",
        ")\n",
        "\n",
        "crf.fit(X_train, y_train)\n",
        "\n",
        "# Sauvegarde du modèle\n",
        "import pickle\n",
        "with open(\"pokemon_crf_model.pkl\", \"wb\") as f:\n",
        "    pickle.dump(crf, f)\n",
        "\n",
        "print(\"Modèle CRF entraîné et sauvegardé.\")\n"
      ],
      "metadata": {
        "colab": {
          "base_uri": "https://localhost:8080/"
        },
        "id": "OnipN11fStrU",
        "outputId": "14acc5e9-ae47-4824-e03e-6e1864380c7d"
      },
      "execution_count": 26,
      "outputs": [
        {
          "output_type": "stream",
          "name": "stdout",
          "text": [
            "Modèle CRF entraîné et sauvegardé.\n"
          ]
        }
      ]
    },
    {
      "cell_type": "code",
      "source": [
        "import pickle\n",
        "\n",
        "with open(\"pokemon_crf_model.pkl\", \"rb\") as f:\n",
        "    crf = pickle.load(f)"
      ],
      "metadata": {
        "id": "lAYlXNkIViW1"
      },
      "execution_count": 27,
      "outputs": []
    },
    {
      "cell_type": "code",
      "source": [
        "from sklearn_crfsuite import metrics\n",
        "\n",
        "y_pred = crf.predict(X_test)\n",
        "\n",
        "# Calcul du score F1\n",
        "print(metrics.flat_classification_report(y_test, y_pred, labels=[\"B-Pokemon\", \"I-Pokemon\", \"B-Move\", \"B-Verb\", \"I-Verb\", \"0\"]))\n"
      ],
      "metadata": {
        "colab": {
          "base_uri": "https://localhost:8080/"
        },
        "id": "uIZyWrt5VNu9",
        "outputId": "1a6ea744-c430-4c1b-9da3-c53c4b5cdc7a"
      },
      "execution_count": 31,
      "outputs": [
        {
          "output_type": "stream",
          "name": "stdout",
          "text": [
            "              precision    recall  f1-score   support\n",
            "\n",
            "   B-Pokemon       0.83      0.91      0.87        11\n",
            "   I-Pokemon       0.00      0.00      0.00         1\n",
            "      B-Move       0.00      0.00      0.00         1\n",
            "      B-Verb       0.86      0.43      0.57        14\n",
            "      I-Verb       0.00      0.00      0.00         5\n",
            "           0       0.82      0.97      0.89        64\n",
            "\n",
            "   micro avg       0.81      0.81      0.81        96\n",
            "   macro avg       0.42      0.38      0.39        96\n",
            "weighted avg       0.76      0.81      0.77        96\n",
            "\n"
          ]
        },
        {
          "output_type": "stream",
          "name": "stderr",
          "text": [
            "/usr/local/lib/python3.11/dist-packages/sklearn/metrics/_classification.py:1565: UndefinedMetricWarning: Precision is ill-defined and being set to 0.0 in labels with no predicted samples. Use `zero_division` parameter to control this behavior.\n",
            "  _warn_prf(average, modifier, f\"{metric.capitalize()} is\", len(result))\n",
            "/usr/local/lib/python3.11/dist-packages/sklearn/metrics/_classification.py:1565: UndefinedMetricWarning: Precision is ill-defined and being set to 0.0 in labels with no predicted samples. Use `zero_division` parameter to control this behavior.\n",
            "  _warn_prf(average, modifier, f\"{metric.capitalize()} is\", len(result))\n",
            "/usr/local/lib/python3.11/dist-packages/sklearn/metrics/_classification.py:1565: UndefinedMetricWarning: Precision is ill-defined and being set to 0.0 in labels with no predicted samples. Use `zero_division` parameter to control this behavior.\n",
            "  _warn_prf(average, modifier, f\"{metric.capitalize()} is\", len(result))\n"
          ]
        }
      ]
    },
    {
      "cell_type": "code",
      "source": [
        "test_sentence = [(\"Bulbasaur\", \"O\"), (\"uses\", \"O\"), (\"Vine\", \"O\"), (\"Whip\", \"O\")]\n",
        "\n",
        "# Extraire les features du test\n",
        "X_new = [word2features(test_sentence, i) for i in range(len(test_sentence))]\n",
        "\n",
        "# Prédiction\n",
        "y_pred = crf.predict([X_new])\n",
        "\n",
        "# Affichage des résultats\n",
        "for word, label in zip([w[0] for w in test_sentence], y_pred[0]):\n",
        "    print(f\"{word}: {label}\")"
      ],
      "metadata": {
        "colab": {
          "base_uri": "https://localhost:8080/"
        },
        "id": "h2Q00vroVvFh",
        "outputId": "42fabca3-b2d3-4d07-b1ba-7f103f03059b"
      },
      "execution_count": 32,
      "outputs": [
        {
          "output_type": "stream",
          "name": "stdout",
          "text": [
            "Bulbasaur: B-Pokemon\n",
            "uses: 0\n",
            "Vine: 0\n",
            "Whip: 0\n"
          ]
        }
      ]
    },
    {
      "cell_type": "code",
      "source": [
        "import numpy as np\n",
        "import matplotlib.pyplot as plt\n",
        "from sklearn.model_selection import train_test_split\n",
        "from sklearn_crfsuite import CRF, metrics\n",
        "\n",
        "def plot_learning_curve(X, y):\n",
        "    train_sizes = np.linspace(0.1, 0.99, 10)  # 10 niveaux de fraction de données\n",
        "    f1_scores = []\n",
        "\n",
        "    for size in train_sizes:\n",
        "        # Séparer en train/test avec une fraction des données\n",
        "        X_train, X_test, y_train, y_test = train_test_split(X, y, train_size=size, random_state=42)\n",
        "\n",
        "        # Initialiser et entraîner le CRF\n",
        "        crf = CRF(\n",
        "            algorithm='lbfgs',\n",
        "            c1=0.1, c2=0.1,\n",
        "            max_iterations=100,\n",
        "            all_possible_transitions=True\n",
        "        )\n",
        "        crf.fit(X_train, y_train)\n",
        "\n",
        "        # Prédictions sur le jeu de test\n",
        "        y_pred = crf.predict(X_test)\n",
        "\n",
        "        # Calcul du F1-score sur toutes les classes\n",
        "        f1 = metrics.flat_f1_score(y_test, y_pred, average='weighted')\n",
        "        f1_scores.append(f1)\n",
        "\n",
        "    # 📊 Affichage de la courbe\n",
        "    plt.figure(figsize=(8, 5))\n",
        "    plt.plot(train_sizes, f1_scores, marker='o', linestyle='-', color='b', label=\"F1-score\")\n",
        "    plt.xlabel(\"Taille du jeu d'entraînement\")\n",
        "    plt.ylabel(\"Score F1 (moyenne pondérée)\")\n",
        "    plt.title(\"Courbe d'apprentissage du modèle CRF\")\n",
        "    plt.legend()\n",
        "    plt.grid(True)\n",
        "    plt.show()\n",
        "\n",
        "# ⚡️ Lancer la courbe d'apprentissage\n",
        "plot_learning_curve(X, y)\n"
      ],
      "metadata": {
        "colab": {
          "base_uri": "https://localhost:8080/",
          "height": 488
        },
        "id": "n6uM5qaOZFM9",
        "outputId": "cc45774e-e773-4835-bf9f-d4ee3e0fca9e"
      },
      "execution_count": 37,
      "outputs": [
        {
          "output_type": "display_data",
          "data": {
            "text/plain": [
              "<Figure size 800x500 with 1 Axes>"
            ],
            "image/png": "[encoded data removed]"
          },
          "metadata": {}
        }
      ]
    },
    {
      "cell_type": "code",
      "source": [],
      "metadata": {
        "id": "i4nRNwKuZtlx"
      },
      "execution_count": null,
      "outputs": []
    }
  ]
}